{
 "cells": [
  {
   "cell_type": "markdown",
   "metadata": {},
   "source": [
    "# Stocker de multiples valeurs dans une liste\n",
    "### Objectifs\n",
    "* Déterminer ce qu'est une liste;\n",
    "* Créer et manipuler une liste;\n",
    "* Ajouter, réorganiser et extraire des éléments;\n",
    "* Créer et manipuler des listes imbriquées.\n",
    "\n",
    "Alors qu'une boucle permet de réaliser plusieurs opérations plusieurs fois, une liste permet de stocker plusieurs valeurs.\n",
    "\n",
    "Une liste se crée à l'aide de crochets `[]` pour déterminer le début et la fin de la liste et de virgules pour séparer les valeurs. Initialisons ensemble notre première liste."
   ]
  },
  {
   "cell_type": "code",
   "execution_count": null,
   "metadata": {},
   "outputs": [],
   "source": []
  },
  {
   "cell_type": "markdown",
   "metadata": {},
   "source": [
    "Comme pour les tableaux numpy, on peut accéder à chacune des valeurs dans une liste à l'aide des crochets `[]`.\n",
    "\n",
    "L'indice 0 nous retourne le premier élément, et l'indice -1 retourne le dernier élément."
   ]
  },
  {
   "cell_type": "code",
   "execution_count": null,
   "metadata": {},
   "outputs": [],
   "source": []
  },
  {
   "cell_type": "markdown",
   "metadata": {},
   "source": [
    "Tout comme on itérait sur une chaîne de caractères, on peut itérer ou boucler sur une liste."
   ]
  },
  {
   "cell_type": "code",
   "execution_count": null,
   "metadata": {},
   "outputs": [],
   "source": []
  },
  {
   "cell_type": "markdown",
   "metadata": {},
   "source": [
    "Une importante différence entre les chaînes de caractères et les listes est qu'il est possible de modifier les valeurs stockées dans une liste.\n",
    "\n",
    "**Initialisez une chaîne de caractère et stockez là dans une variable `mot`, puis tentez de modifier le deuxième caractère.**"
   ]
  },
  {
   "cell_type": "code",
   "execution_count": null,
   "metadata": {},
   "outputs": [],
   "source": [
    "# mot = ..."
   ]
  },
  {
   "cell_type": "markdown",
   "metadata": {},
   "source": [
    "On peut initialiser une liste de chaînes de caractères comme suit:"
   ]
  },
  {
   "cell_type": "code",
   "execution_count": null,
   "metadata": {},
   "outputs": [],
   "source": [
    "noms = ['Darwin', 'Newton', 'Watt', 'Joule']"
   ]
  },
  {
   "cell_type": "markdown",
   "metadata": {},
   "source": [
    "On peut modifier un des noms de la liste :"
   ]
  },
  {
   "cell_type": "code",
   "execution_count": null,
   "metadata": {},
   "outputs": [],
   "source": [
    "noms[2] = 'Ohm'"
   ]
  },
  {
   "cell_type": "markdown",
   "metadata": {},
   "source": [
    "Mais on ne peut pas modifier une lettre dans un nom:"
   ]
  },
  {
   "cell_type": "code",
   "execution_count": null,
   "metadata": {},
   "outputs": [],
   "source": [
    "noms[2][0] = 's'"
   ]
  },
  {
   "cell_type": "markdown",
   "metadata": {},
   "source": [
    "Une liste tout comme un tableau dispose de méthodes. Par exemple, on peut ajouter un élément à la fin d'une liste en utilisant la méthode `append`."
   ]
  },
  {
   "cell_type": "code",
   "execution_count": null,
   "metadata": {},
   "outputs": [],
   "source": []
  },
  {
   "cell_type": "markdown",
   "metadata": {},
   "source": [
    "Pour supprimer un élément d'une liste, on utilise plutôt l'instruction `del` suivi de l'élément de la liste qu'on souhaite supprimer."
   ]
  },
  {
   "cell_type": "code",
   "execution_count": null,
   "metadata": {},
   "outputs": [],
   "source": []
  },
  {
   "cell_type": "markdown",
   "metadata": {},
   "source": [
    "Il existe toute une panoplie de méthodes, par exemple la méthode `reverse` inverse en-place l'ordre d'une liste."
   ]
  },
  {
   "cell_type": "code",
   "execution_count": null,
   "metadata": {},
   "outputs": [],
   "source": []
  },
  {
   "cell_type": "markdown",
   "metadata": {},
   "source": [
    "Pour obtenir la liste des méthodes disponibles, on peut appeler la fonction `help` sur la fonction `list`."
   ]
  },
  {
   "cell_type": "code",
   "execution_count": null,
   "metadata": {},
   "outputs": [],
   "source": [
    "help(list)"
   ]
  },
  {
   "cell_type": "markdown",
   "metadata": {},
   "source": [
    "Que se passe-t-il lorsqu'on assigne une variable contenant une liste à une deuxième variable?"
   ]
  },
  {
   "cell_type": "code",
   "execution_count": null,
   "metadata": {},
   "outputs": [],
   "source": []
  },
  {
   "cell_type": "markdown",
   "metadata": {},
   "source": [
    "Est-ce qu'on a véritablement copié la liste? Essayons de modifier la liste d'origine et validons le contenu de la deuxième liste."
   ]
  },
  {
   "cell_type": "code",
   "execution_count": null,
   "metadata": {},
   "outputs": [],
   "source": []
  },
  {
   "cell_type": "markdown",
   "metadata": {},
   "source": [
    "Pour créer explicitement une copie d'une liste, on peut appeler la fonction `list` et fournir en argument la variable que l'on souhaite copier."
   ]
  },
  {
   "cell_type": "code",
   "execution_count": null,
   "metadata": {},
   "outputs": [],
   "source": []
  },
  {
   "cell_type": "markdown",
   "metadata": {},
   "source": [
    "Les structures de données utilisant l'opérateur `[]` pour accéder aux valeurs individuelles tel que le tableau numpy, la chaîne de caractère et la liste sont généralement compatible avec le concept de tranche (*slice*) utilisant l'opérateur `:`.\n",
    "\n",
    "** Utilisez l'opérateur `:` sur chacune des variables suivantes pour en extraire des sections.**"
   ]
  },
  {
   "cell_type": "code",
   "execution_count": null,
   "metadata": {},
   "outputs": [],
   "source": [
    "nom_scientific = \"Drosophila melanogaster\"\n",
    "chromosomes = [\"X\", \"Y\", \"2\", \"3\", \"4\"]"
   ]
  },
  {
   "cell_type": "markdown",
   "metadata": {},
   "source": [
    "Comment ferait-on pour itérer sur une liste à partir de la fin jusqu'au début?"
   ]
  },
  {
   "cell_type": "code",
   "execution_count": null,
   "metadata": {},
   "outputs": [],
   "source": []
  },
  {
   "cell_type": "markdown",
   "metadata": {},
   "source": [
    "Comment fait-on pour trier une liste?"
   ]
  },
  {
   "cell_type": "code",
   "execution_count": null,
   "metadata": {},
   "outputs": [],
   "source": []
  },
  {
   "cell_type": "markdown",
   "metadata": {},
   "source": [
    "Que se passe-t-il si on essaie d'additionner deux listes?"
   ]
  },
  {
   "cell_type": "code",
   "execution_count": null,
   "metadata": {},
   "outputs": [],
   "source": []
  },
  {
   "cell_type": "markdown",
   "metadata": {},
   "source": [
    "## Exercices\n",
    "### 1. Transformer une chaîne de caractères en une liste\n",
    "\n",
    "Utilisez une boucle for pour convertir la chaîne de caractères \"hello\" en une liste de lettre comme ceci :\n",
    "```\n",
    "[\"h\", \"e\", \"l\", \"l\", \"o\"]\n",
    "```\n"
   ]
  },
  {
   "cell_type": "code",
   "execution_count": null,
   "metadata": {},
   "outputs": [],
   "source": []
  },
  {
   "cell_type": "markdown",
   "metadata": {},
   "source": [
    "### 2. Échangez le contenu de deux variables.\n",
    "\n",
    "Expliquez ce qu'effectue le code suivant:"
   ]
  },
  {
   "cell_type": "code",
   "execution_count": null,
   "metadata": {},
   "outputs": [],
   "source": [
    "gauche = 'G'\n",
    "droite = 'D'\n",
    "\n",
    "temp = gauche\n",
    "gauche = droite\n",
    "droite = gauche"
   ]
  },
  {
   "cell_type": "markdown",
   "metadata": {},
   "source": [
    "Comparez la cellule précédente à la cellule suivante"
   ]
  },
  {
   "cell_type": "code",
   "execution_count": null,
   "metadata": {},
   "outputs": [],
   "source": [
    "gauche, droite = droite, gauche"
   ]
  },
  {
   "cell_type": "markdown",
   "metadata": {},
   "source": [
    "Est-ce que les deux cellules sont équivalentes? Laquelle trouvez-vous la plus aisée à lire?"
   ]
  },
  {
   "cell_type": "code",
   "execution_count": null,
   "metadata": {},
   "outputs": [],
   "source": []
  }
 ],
 "metadata": {
  "kernelspec": {
   "display_name": "Python 3",
   "language": "python",
   "name": "python3"
  },
  "language_info": {
   "codemirror_mode": {
    "name": "ipython",
    "version": 3
   },
   "file_extension": ".py",
   "mimetype": "text/x-python",
   "name": "python",
   "nbconvert_exporter": "python",
   "pygments_lexer": "ipython3",
   "version": "3.6.1"
  }
 },
 "nbformat": 4,
 "nbformat_minor": 2
}
