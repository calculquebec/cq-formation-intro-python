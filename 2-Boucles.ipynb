{
 "cells": [
  {
   "cell_type": "markdown",
   "metadata": {},
   "source": [
    "# Répéter des opérations à l'aide d'une boucle\n",
    "\n",
    "Nos objectifs\n",
    "- Déterminer à quoi sert une boucle;\n",
    "- Pouvoir écrire une boucle simple;\n",
    "- Comprendre le fonctionnement de la variable d'itération."
   ]
  },
  {
   "cell_type": "markdown",
   "metadata": {},
   "source": [
    "Définissons une variable contenant une chaîne de caractères."
   ]
  },
  {
   "cell_type": "code",
   "execution_count": null,
   "metadata": {},
   "outputs": [],
   "source": [
    "mot = \"Darwin\""
   ]
  },
  {
   "cell_type": "markdown",
   "metadata": {},
   "source": [
    "Chaque lettre de notre mot est accessible en utilisant les crochets `[]`, comme pour le tableau. Accéder au premier élément du mot."
   ]
  },
  {
   "cell_type": "code",
   "execution_count": null,
   "metadata": {},
   "outputs": [],
   "source": []
  },
  {
   "cell_type": "markdown",
   "metadata": {},
   "source": [
    "Affichez chaque lettre du mot. Chaque lettre doit apparaître sur une ligne distincte."
   ]
  },
  {
   "cell_type": "code",
   "execution_count": null,
   "metadata": {},
   "outputs": [],
   "source": []
  },
  {
   "cell_type": "markdown",
   "metadata": {},
   "source": [
    "- Est-ce une bonne approche pour afficher toutes les lettres d'un mot? \n",
    "- Que se produit-il si on change la taille du mot?"
   ]
  },
  {
   "cell_type": "code",
   "execution_count": null,
   "metadata": {},
   "outputs": [],
   "source": [
    "mot = 'tin'"
   ]
  },
  {
   "cell_type": "markdown",
   "metadata": {},
   "source": [
    "On va vouloir utiliser une boucle pour itérer sur chaque lettre de notre mot. Quel mot clé pourrait représenter une répétition ?"
   ]
  },
  {
   "cell_type": "code",
   "execution_count": null,
   "metadata": {},
   "outputs": [],
   "source": []
  },
  {
   "cell_type": "markdown",
   "metadata": {},
   "source": [
    "Que le mot soit plus court ou plus long, ça n'a pas d'importance, la boucle s'adapte.\n",
    "\n",
    "Assignez un mot plus long à la variable `mot` et réécrivez la boucle."
   ]
  },
  {
   "cell_type": "code",
   "execution_count": null,
   "metadata": {},
   "outputs": [],
   "source": []
  },
  {
   "cell_type": "markdown",
   "metadata": {},
   "source": [
    "La forme générale d'une boucle est la suivante:\n",
    "```\n",
    "for element in variable:\n",
    "    do things with element\n",
    "```\n",
    "\n",
    "Prenons un exemple avec le mot `oxygen`."
   ]
  },
  {
   "cell_type": "code",
   "execution_count": null,
   "metadata": {},
   "outputs": [],
   "source": [
    "word = 'oxygen'\n",
    "for char in word:\n",
    "    print(char)"
   ]
  },
  {
   "cell_type": "markdown",
   "metadata": {},
   "source": [
    "Schématiquement voici ce qui se produit :\n",
    "\n",
    "![Loop](images/loops_image.png)\n",
    "\n",
    "Le nom de la variable correspondant à l'élément ne regarde que vous, mais assurez-vous d'utiliser une nomenclature aussi claire que possible pour aider vos lecteurs."
   ]
  },
  {
   "cell_type": "code",
   "execution_count": null,
   "metadata": {},
   "outputs": [],
   "source": [
    "for banane in mot:\n",
    "    print(banane)"
   ]
  },
  {
   "cell_type": "markdown",
   "metadata": {},
   "source": [
    "Nous ne sommes pas obligés d'utiliser directement la variable d'itération. On peut carrément en faire abstraction."
   ]
  },
  {
   "cell_type": "code",
   "execution_count": null,
   "metadata": {},
   "outputs": [],
   "source": [
    "taille = 0\n",
    "for caractere in 'aeiou':\n",
    "    taille = taille + 1\n",
    "print(\"Il y a\", taille, \"voyelles.\")"
   ]
  },
  {
   "cell_type": "markdown",
   "metadata": {},
   "source": [
    "Essayez de prédire le résultat de la boucle suivante avant de l'exécuter:\n",
    "- Qu'advient-il de la variable `lettre` à chaque itération?\n",
    "- Est-ce qu'une erreur sera produite?\n",
    "- Qu'est-ce qu'on affichera à la toute fin?"
   ]
  },
  {
   "cell_type": "code",
   "execution_count": null,
   "metadata": {},
   "outputs": [],
   "source": [
    "lettre = 'z'\n",
    "for lettre in 'qrst':\n",
    "    print(\"La lettre courante est:\", lettre)\n",
    "print(\"La dernière lettre est:\", lettre)"
   ]
  },
  {
   "cell_type": "markdown",
   "metadata": {},
   "source": [
    "Une chaîne de caractères ne possède pas de propriété `shape` comme notre tableau de la première partie. Par contre, il existe la fonction `len` qui elle retourne le nombre d'éléments dans une séquence fournie en argument.\n",
    "\n",
    "Définissez une chaîne de caractères contenant les lettres *abcde* et calculez le nombre de lettre à l'aide de la fonction `len`."
   ]
  },
  {
   "cell_type": "code",
   "execution_count": null,
   "metadata": {},
   "outputs": [],
   "source": []
  },
  {
   "cell_type": "markdown",
   "metadata": {},
   "source": [
    "Il existe aussi une fonction `range` permettant de créer une séquence continue d'entiers. \n",
    "Combinez la fonction `len` afin d'afficher les lettres du mot à l'exception de la première lettre."
   ]
  },
  {
   "cell_type": "code",
   "execution_count": null,
   "metadata": {},
   "outputs": [],
   "source": []
  },
  {
   "cell_type": "markdown",
   "metadata": {},
   "source": [
    "## Exercice\n",
    "\n",
    "### 1. Calcul d'une puissance\n",
    "Une puissance en Python s'écrit comme suit : `5 ** 3`. \n",
    "\n",
    "Utilisez une boucle pour calculez cette même puissance."
   ]
  },
  {
   "cell_type": "code",
   "execution_count": null,
   "metadata": {},
   "outputs": [],
   "source": []
  },
  {
   "cell_type": "markdown",
   "metadata": {},
   "source": [
    "### 2. Calcul de la valeur d'un polynôme.\n",
    "\n",
    "La fonction `enumerate` prend en argument une séquence (i.e: une liste) et génère une nouvelle séquence de même taille. Chaque élément de cette nouvelle séquence est une paire composée d'un indice (0, 1, 2, ...) et de la valeur qui se trouvait dans la séquence originale.\n",
    "\n",
    "```\n",
    "for i, x in enumerate(xs):\n",
    "    # Faites quelque chose avec i et x\n",
    "```\n",
    "\n",
    "** Pouvez-vous expliquer comment fonctionne le code précédent?**\n",
    "\n",
    "Supposez que vous ayez encodé un polynôme comme une liste de coefficients de la façon suivante : le premier élément est la constante, le deuxième élément est le coefficient linéaire, le troisième coefficient quadratique, etc."
   ]
  },
  {
   "cell_type": "code",
   "execution_count": null,
   "metadata": {},
   "outputs": [],
   "source": [
    "x = 5\n",
    "cc = [2, 4, 3]\n",
    "y = cc[0] * x**0 + cc[1] * x**1 + cc[2] * x**2\n",
    "print(y)"
   ]
  },
  {
   "cell_type": "markdown",
   "metadata": {},
   "source": [
    "Écrivez une boucle for utilisant `enumerate(cc)` pour calculer la valeur  de `y` pour n'importe quel polynôme, étant donné `x` et `cc`."
   ]
  },
  {
   "cell_type": "code",
   "execution_count": null,
   "metadata": {},
   "outputs": [],
   "source": []
  }
 ],
 "metadata": {
  "kernelspec": {
   "display_name": "Python 3",
   "language": "python",
   "name": "python3"
  },
  "language_info": {
   "codemirror_mode": {
    "name": "ipython",
    "version": 3
   },
   "file_extension": ".py",
   "mimetype": "text/x-python",
   "name": "python",
   "nbconvert_exporter": "python",
   "pygments_lexer": "ipython3",
   "version": "3.6.1"
  }
 },
 "nbformat": 4,
 "nbformat_minor": 2
}
