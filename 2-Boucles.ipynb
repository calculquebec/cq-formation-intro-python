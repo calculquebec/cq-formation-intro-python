{
 "cells": [
  {
   "cell_type": "markdown",
   "metadata": {
    "deletable": true,
    "editable": true
   },
   "source": [
    "# Répéter des opérations à l'aide d'une boucle\n",
    "\n",
    "Nos objectifs\n",
    "- Déterminer à quoi sert une boucle;\n",
    "- Pouvoir écrire une boucle simple;\n",
    "- Comprendre le fonctionnement de la variable d'itération."
   ]
  },
  {
   "cell_type": "markdown",
   "metadata": {
    "deletable": true,
    "editable": true
   },
   "source": [
    "Définissons une variable contenant une chaîne de caractères."
   ]
  },
  {
   "cell_type": "code",
   "execution_count": 2,
   "metadata": {
    "collapsed": false,
    "deletable": true,
    "editable": true
   },
   "outputs": [],
   "source": [
    "mot = \"Darwin\""
   ]
  },
  {
   "cell_type": "markdown",
   "metadata": {
    "deletable": true,
    "editable": true
   },
   "source": [
    "Chaque lettre de notre mot est accessible en utilisant les crochets `[]`, comme pour le tableau. Accéder un premier élément du mot"
   ]
  },
  {
   "cell_type": "code",
   "execution_count": 3,
   "metadata": {
    "collapsed": false,
    "deletable": true,
    "editable": true
   },
   "outputs": [
    {
     "data": {
      "text/plain": [
       "'D'"
      ]
     },
     "execution_count": 3,
     "metadata": {},
     "output_type": "execute_result"
    }
   ],
   "source": [
    "mot[0]"
   ]
  },
  {
   "cell_type": "markdown",
   "metadata": {
    "deletable": true,
    "editable": true
   },
   "source": [
    "Affichez chaque lettre du mot. Chaque lettre doit apparaître sur une ligne distincte."
   ]
  },
  {
   "cell_type": "code",
   "execution_count": 4,
   "metadata": {
    "collapsed": false,
    "deletable": true,
    "editable": true
   },
   "outputs": [
    {
     "name": "stdout",
     "output_type": "stream",
     "text": [
      "D\n",
      "a\n",
      "r\n",
      "w\n",
      "i\n",
      "n\n"
     ]
    }
   ],
   "source": [
    "print(mot[0])\n",
    "print(mot[1])\n",
    "print(mot[2])\n",
    "print(mot[3])\n",
    "print(mot[4])\n",
    "print(mot[5])"
   ]
  },
  {
   "cell_type": "markdown",
   "metadata": {
    "deletable": true,
    "editable": true
   },
   "source": [
    "- Est-ce une bonne approche pour afficher toutes les lettres d'un mot? \n",
    "- Que se produit-il si on change la taille du mot?"
   ]
  },
  {
   "cell_type": "code",
   "execution_count": 5,
   "metadata": {
    "collapsed": true,
    "deletable": true,
    "editable": true
   },
   "outputs": [],
   "source": [
    "mot = 'tin'"
   ]
  },
  {
   "cell_type": "markdown",
   "metadata": {
    "deletable": true,
    "editable": true
   },
   "source": [
    "On va vouloir utiliser une boucle pour itérer sur chaque lettre de notre mot. Quel était le mot clé en bash pour créer une boucle?"
   ]
  },
  {
   "cell_type": "code",
   "execution_count": 6,
   "metadata": {
    "collapsed": false,
    "deletable": true,
    "editable": true
   },
   "outputs": [
    {
     "name": "stdout",
     "output_type": "stream",
     "text": [
      "t\n",
      "i\n",
      "n\n",
      "tin\n"
     ]
    }
   ],
   "source": [
    "for char in mot:\n",
    "    print(char)\n",
    "print(mot)"
   ]
  },
  {
   "cell_type": "markdown",
   "metadata": {
    "deletable": true,
    "editable": true
   },
   "source": [
    "Que le mot soit plus court ou plus long, ça n'a pas d'importance, la boucle s'adapte.\n",
    "\n",
    "Assignez un mot plus long à la variable `mot` et réécrivez la boucle."
   ]
  },
  {
   "cell_type": "code",
   "execution_count": 7,
   "metadata": {
    "collapsed": false,
    "deletable": true,
    "editable": true
   },
   "outputs": [
    {
     "name": "stdout",
     "output_type": "stream",
     "text": [
      "D\n",
      "Darwin\n",
      "a\n",
      "Darwin\n",
      "r\n",
      "Darwin\n",
      "w\n",
      "Darwin\n",
      "i\n",
      "Darwin\n",
      "n\n",
      "Darwin\n"
     ]
    }
   ],
   "source": [
    "mot = \"Darwin\"\n",
    "for char in mot:\n",
    "    print(char)\n",
    "    print(mot)"
   ]
  },
  {
   "cell_type": "markdown",
   "metadata": {
    "deletable": true,
    "editable": true
   },
   "source": [
    "La forme générale d'une boucle est la suivante:\n",
    "```\n",
    "for element in variable:\n",
    "    do things with element\n",
    "```\n",
    "\n",
    "Le nom de la variable correspondant à l'élément ne regarde que vous, mais assurez-vous d'utiliser une nomenclature aussi claire que possible pour aider vos lecteurs."
   ]
  },
  {
   "cell_type": "code",
   "execution_count": 8,
   "metadata": {
    "collapsed": false,
    "deletable": true,
    "editable": true
   },
   "outputs": [
    {
     "name": "stdout",
     "output_type": "stream",
     "text": [
      "D\n",
      "a\n",
      "r\n",
      "w\n",
      "i\n",
      "n\n"
     ]
    }
   ],
   "source": [
    "for banane in mot:\n",
    "    print(banane)"
   ]
  },
  {
   "cell_type": "markdown",
   "metadata": {
    "deletable": true,
    "editable": true
   },
   "source": [
    "Nous ne sommes pas obligé d'utiliser directement la variable d'itération. On peut carrément en faire abstraction."
   ]
  },
  {
   "cell_type": "code",
   "execution_count": 9,
   "metadata": {
    "collapsed": false,
    "deletable": true,
    "editable": true
   },
   "outputs": [
    {
     "name": "stdout",
     "output_type": "stream",
     "text": [
      "Il y a 5 voyelles.\n"
     ]
    }
   ],
   "source": [
    "length = 0\n",
    "for char in 'aeiou':\n",
    "    length = length + 1\n",
    "print(\"Il y a\", length, \"voyelles.\")"
   ]
  },
  {
   "cell_type": "code",
   "execution_count": 10,
   "metadata": {
    "collapsed": false
   },
   "outputs": [
    {
     "data": {
      "text/plain": [
       "6"
      ]
     },
     "execution_count": 10,
     "metadata": {},
     "output_type": "execute_result"
    }
   ],
   "source": [
    "len(mot)"
   ]
  },
  {
   "cell_type": "code",
   "execution_count": 15,
   "metadata": {
    "collapsed": false
   },
   "outputs": [
    {
     "name": "stdout",
     "output_type": "stream",
     "text": [
      "D\n",
      "a\n",
      "r\n",
      "w\n",
      "i\n",
      "n\n"
     ]
    }
   ],
   "source": [
    "for i in range(len(mot)):\n",
    "    print(mot[i])"
   ]
  },
  {
   "cell_type": "markdown",
   "metadata": {
    "deletable": true,
    "editable": true
   },
   "source": [
    "Essayez de prédire le résultat de la boucle suivante avant de l'exécuter:\n",
    "- Qu'advient-il de la variable `letter` à chaque itération?\n",
    "- Est-ce qu'une erreur sera produite?\n",
    "- Qu'est-ce qu'on affichera à la toute fin?"
   ]
  },
  {
   "cell_type": "code",
   "execution_count": 16,
   "metadata": {
    "collapsed": false,
    "deletable": true,
    "editable": true
   },
   "outputs": [
    {
     "name": "stdout",
     "output_type": "stream",
     "text": [
      "La lettre courante est: q\n",
      "La lettre courante est: r\n",
      "La lettre courante est: s\n",
      "La lettre courante est: t\n",
      "La dernière lettre est: t\n"
     ]
    }
   ],
   "source": [
    "letter = 'z'\n",
    "for letter in 'qrst':\n",
    "    print(\"La lettre courante est:\", letter)\n",
    "print(\"La dernière lettre est:\", letter)"
   ]
  },
  {
   "cell_type": "markdown",
   "metadata": {
    "deletable": true,
    "editable": true
   },
   "source": [
    "Une chaîne de caractères ne possède pas de propriété `shape` comme notre tableau de la première partie. Par contre, il existe la fonction `len` qui elle retourne le nombre de caractères de la chaîne fournie en argument.\n",
    "\n",
    "Définissez une chaîne de caractères contenant les lettres *abcde* et calculez le nombre de lettre à l'aide de la fonction `len`."
   ]
  },
  {
   "cell_type": "code",
   "execution_count": 20,
   "metadata": {
    "collapsed": false,
    "deletable": true,
    "editable": true
   },
   "outputs": [
    {
     "data": {
      "text/plain": [
       "6"
      ]
     },
     "execution_count": 20,
     "metadata": {},
     "output_type": "execute_result"
    }
   ],
   "source": [
    "len(mot)"
   ]
  },
  {
   "cell_type": "markdown",
   "metadata": {
    "deletable": true,
    "editable": true
   },
   "source": [
    "# Exercice\n",
    "\n",
    "Une exponentielle en Python s'écrit comme suit : `5 ** 3`. \n",
    "\n",
    "Utilises une boucle pour calculez cette même exponentielle."
   ]
  },
  {
   "cell_type": "code",
   "execution_count": 21,
   "metadata": {
    "collapsed": false,
    "deletable": true,
    "editable": true
   },
   "outputs": [
    {
     "name": "stdout",
     "output_type": "stream",
     "text": [
      "125\n"
     ]
    }
   ],
   "source": [
    "base = 5\n",
    "exposant = 3\n",
    "resultat = 1\n",
    "for i in range(exposant):\n",
    "    resultat = resultat * base\n",
    "print(resultat)"
   ]
  },
  {
   "cell_type": "code",
   "execution_count": null,
   "metadata": {
    "collapsed": true
   },
   "outputs": [],
   "source": []
  }
 ],
 "metadata": {
  "kernelspec": {
   "display_name": "Python-Workshop",
   "language": "python",
   "name": "python-workshop"
  },
  "language_info": {
   "codemirror_mode": {
    "name": "ipython",
    "version": 3
   },
   "file_extension": ".py",
   "mimetype": "text/x-python",
   "name": "python",
   "nbconvert_exporter": "python",
   "pygments_lexer": "ipython3",
   "version": "3.5.0"
  }
 },
 "nbformat": 4,
 "nbformat_minor": 2
}
