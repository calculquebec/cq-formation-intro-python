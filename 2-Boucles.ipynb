{
 "cells": [
  {
   "cell_type": "markdown",
   "metadata": {},
   "source": [
    "# Répéter des opérations à l'aide d'une boucle\n",
    "\n",
    "Nos objectifs\n",
    "- Déterminer à quoi sert une boucle;\n",
    "- Pouvoir écrire une boucle simple;\n",
    "- Comprendre le fonctionnement de la variable d'itération."
   ]
  },
  {
   "cell_type": "markdown",
   "metadata": {},
   "source": [
    "Définissons une variable contenant une chaîne de caractères."
   ]
  },
  {
   "cell_type": "code",
   "execution_count": null,
   "metadata": {},
   "outputs": [],
   "source": [
    "mot = \"Darwin\""
   ]
  },
  {
   "cell_type": "markdown",
   "metadata": {},
   "source": [
    "Chaque lettre de notre mot est accessible en utilisant les crochets `[]`, comme pour le tableau. Accéder un premier élément du mot"
   ]
  },
  {
   "cell_type": "code",
   "execution_count": null,
   "metadata": {},
   "outputs": [],
   "source": []
  },
  {
   "cell_type": "markdown",
   "metadata": {},
   "source": [
    "Affichez chaque lettre du mot. Chaque lettre doit apparaître sur une ligne distincte."
   ]
  },
  {
   "cell_type": "code",
   "execution_count": null,
   "metadata": {},
   "outputs": [],
   "source": []
  },
  {
   "cell_type": "markdown",
   "metadata": {},
   "source": [
    "- Est-ce une bonne approche pour afficher toutes les lettres d'un mot? \n",
    "- Que se produit-il si on change la taille du mot?"
   ]
  },
  {
   "cell_type": "code",
   "execution_count": null,
   "metadata": {},
   "outputs": [],
   "source": [
    "mot = 'tin'"
   ]
  },
  {
   "cell_type": "markdown",
   "metadata": {},
   "source": [
    "On va vouloir utiliser une boucle pour itérer sur chaque lettre de notre mot. Quel mot clé pourrait représenter une répétition ?"
   ]
  },
  {
   "cell_type": "code",
   "execution_count": null,
   "metadata": {},
   "outputs": [],
   "source": []
  },
  {
   "cell_type": "markdown",
   "metadata": {},
   "source": [
    "Que le mot soit plus court ou plus long, ça n'a pas d'importance, la boucle s'adapte.\n",
    "\n",
    "Assignez un mot plus long à la variable `mot` et réécrivez la boucle."
   ]
  },
  {
   "cell_type": "code",
   "execution_count": null,
   "metadata": {},
   "outputs": [],
   "source": []
  },
  {
   "cell_type": "markdown",
   "metadata": {},
   "source": [
    "La forme générale d'une boucle est la suivante:\n",
    "```\n",
    "for element in variable:\n",
    "    do things with element\n",
    "```\n",
    "\n",
    "Prenons un exemple avec le mot `oxygen`."
   ]
  },
  {
   "cell_type": "code",
   "execution_count": null,
   "metadata": {},
   "outputs": [],
   "source": [
    "word = 'oxygen'\n",
    "for char in word:\n",
    "    print(char)"
   ]
  },
  {
   "cell_type": "markdown",
   "metadata": {},
   "source": [
    "Schématiquement voici ce qui se produit :\n",
    "\n",
    "![Loop](images/loops_image.png)\n",
    "\n",
    "Le nom de la variable correspondant à l'élément ne regarde que vous, mais assurez-vous d'utiliser une nomenclature aussi claire que possible pour aider vos lecteurs."
   ]
  },
  {
   "cell_type": "code",
   "execution_count": null,
   "metadata": {},
   "outputs": [],
   "source": [
    "for banane in mot:\n",
    "    print(banane)"
   ]
  },
  {
   "cell_type": "markdown",
   "metadata": {},
   "source": [
    "Nous ne sommes pas obligé d'utiliser directement la variable d'itération. On peut carrément en faire abstraction."
   ]
  },
  {
   "cell_type": "code",
   "execution_count": null,
   "metadata": {},
   "outputs": [],
   "source": [
    "length = 0\n",
    "for char in 'aeiou':\n",
    "    length = length + 1\n",
    "print(\"Il y a\", length, \"voyelles.\")"
   ]
  },
  {
   "cell_type": "code",
   "execution_count": null,
   "metadata": {},
   "outputs": [],
   "source": [
    "len(mot)"
   ]
  },
  {
   "cell_type": "code",
   "execution_count": null,
   "metadata": {},
   "outputs": [],
   "source": [
    "for i in range(len(mot)):\n",
    "    print(mot[i])"
   ]
  },
  {
   "cell_type": "markdown",
   "metadata": {},
   "source": [
    "Essayez de prédire le résultat de la boucle suivante avant de l'exécuter:\n",
    "- Qu'advient-il de la variable `letter` à chaque itération?\n",
    "- Est-ce qu'une erreur sera produite?\n",
    "- Qu'est-ce qu'on affichera à la toute fin?"
   ]
  },
  {
   "cell_type": "code",
   "execution_count": null,
   "metadata": {},
   "outputs": [],
   "source": [
    "letter = 'z'\n",
    "for letter in 'qrst':\n",
    "    print(\"La lettre courante est:\", letter)\n",
    "print(\"La dernière lettre est:\", letter)"
   ]
  },
  {
   "cell_type": "markdown",
   "metadata": {},
   "source": [
    "Une chaîne de caractères ne possède pas de propriété `shape` comme notre tableau de la première partie. Par contre, il existe la fonction `len` qui elle retourne le nombre de caractères de la chaîne fournie en argument.\n",
    "\n",
    "Définissez une chaîne de caractères contenant les lettres *abcde* et calculez le nombre de lettre à l'aide de la fonction `len`."
   ]
  },
  {
   "cell_type": "code",
   "execution_count": null,
   "metadata": {},
   "outputs": [],
   "source": []
  },
  {
   "cell_type": "markdown",
   "metadata": {},
   "source": [
    "# Exercice\n",
    "\n",
    "Une exponentielle en Python s'écrit comme suit : `5 ** 3`. \n",
    "\n",
    "Utilisez une boucle pour calculez cette même exponentielle."
   ]
  },
  {
   "cell_type": "code",
   "execution_count": null,
   "metadata": {},
   "outputs": [],
   "source": []
  }
 ],
 "metadata": {
  "kernelspec": {
   "display_name": "Python 3",
   "language": "python",
   "name": "python3"
  },
  "language_info": {
   "codemirror_mode": {
    "name": "ipython",
    "version": 3
   },
   "file_extension": ".py",
   "mimetype": "text/x-python",
   "name": "python",
   "nbconvert_exporter": "python",
   "pygments_lexer": "ipython3",
   "version": "3.6.1"
  }
 },
 "nbformat": 4,
 "nbformat_minor": 2
}
