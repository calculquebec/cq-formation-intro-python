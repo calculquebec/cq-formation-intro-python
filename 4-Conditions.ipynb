{
 "cells": [
  {
   "cell_type": "markdown",
   "metadata": {},
   "source": [
    "# Faire des choix en fonction de conditions\n",
    "\n",
    "Nous allons maintenant voir comment adapter la logique de notre code en fonction de l'état de nos variables. La notion de condition en Python s'exprime à l'aide de l'instruction `if`.\n",
    "\n",
    "Essayons de faire afficher un message différent en fonction de la valeur qui se trouve dans une variable `nombre`."
   ]
  },
  {
   "cell_type": "code",
   "execution_count": null,
   "metadata": {
    "collapsed": true
   },
   "outputs": [],
   "source": [
    "nombre = 37"
   ]
  },
  {
   "cell_type": "markdown",
   "metadata": {},
   "source": [
    "Schématiquement, le code précédent peut être représenté comme ceci:\n",
    "![](images/python-flowchart-conditional.png)"
   ]
  },
  {
   "cell_type": "markdown",
   "metadata": {},
   "source": [
    "Un énoncé conditionnel `if` n'oblige pas la définition d'un comportement si la condition est fausse ou `else`. Si on s'intéressait à afficher seulement un message quand la variable est plus grande que 100, on pourrait faire ceci:"
   ]
  },
  {
   "cell_type": "code",
   "execution_count": null,
   "metadata": {
    "collapsed": true
   },
   "outputs": [],
   "source": []
  },
  {
   "cell_type": "markdown",
   "metadata": {},
   "source": [
    "À l'inverse, on peut ajouter des conditions supplémentaires lorsque le premier énoncé est faux à l'aide de l'instruction `elif`. Par exemple, si on voulait afficher un message lorsque la variable est nulle."
   ]
  },
  {
   "cell_type": "code",
   "execution_count": null,
   "metadata": {
    "collapsed": true
   },
   "outputs": [],
   "source": []
  },
  {
   "cell_type": "markdown",
   "metadata": {},
   "source": [
    "À l'intérieur d'un même énoncé `if`, on peut combiner les conditions à tester à l'aide des instructions `and` et `or`.\n",
    "\n",
    "**On peut par exemple valider si `num1` est supérieur à 0 et `num2` est inférieur à 0.**"
   ]
  },
  {
   "cell_type": "code",
   "execution_count": null,
   "metadata": {
    "collapsed": true
   },
   "outputs": [],
   "source": [
    "num1 = -37\n",
    "num2 = 100"
   ]
  },
  {
   "cell_type": "markdown",
   "metadata": {},
   "source": [
    "# Vérification sur nos données de patients\n",
    "\n",
    "Nous allons procéder à la vérification de certaines données concernant nos patients.\n",
    "\n",
    "Nous allons combiner ce que nous avons appris jusqu'à présent. On veut\n",
    "- importez numpy\n",
    "- chargez nos données dans une variable `data`;\n",
    "- Alertez lorsque le maximum d'inflammation du patient 1 est égale à 0 et le maximum d'inflammation du patient 21 est égale à 21;\n",
    "- Alertez lorque la somme des inflamations minimum pour l'ensemble des patients est de 0;\n",
    "- Affichez un message comme quoi tout va bien si aucune des conditions précédentes ne s'appliquent."
   ]
  },
  {
   "cell_type": "code",
   "execution_count": null,
   "metadata": {
    "collapsed": true
   },
   "outputs": [],
   "source": []
  }
 ],
 "metadata": {
  "kernelspec": {
   "display_name": "Python 3",
   "language": "python",
   "name": "python3"
  },
  "language_info": {
   "codemirror_mode": {
    "name": "ipython",
    "version": 3
   },
   "file_extension": ".py",
   "mimetype": "text/x-python",
   "name": "python",
   "nbconvert_exporter": "python",
   "pygments_lexer": "ipython3",
   "version": "3.6.1"
  }
 },
 "nbformat": 4,
 "nbformat_minor": 2
}
