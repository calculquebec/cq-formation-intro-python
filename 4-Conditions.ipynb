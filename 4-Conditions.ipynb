{
 "cells": [
  {
   "cell_type": "markdown",
   "metadata": {
    "deletable": true,
    "editable": true
   },
   "source": [
    "# Faire des choix en fonction de conditions\n",
    "\n",
    "Nous allons maintenant voir comment adapter la logique de notre code en fonction de l'état de nos variables. La notion de condition en Python s'exprime à l'aide de l'instruction `if`.\n",
    "\n",
    "Essayons de faire afficher un message différent en fonction de la valeur qui se trouve dans une variable numérique `nombre`."
   ]
  },
  {
   "cell_type": "code",
   "execution_count": 3,
   "metadata": {
    "collapsed": false,
    "deletable": true,
    "editable": true
   },
   "outputs": [
    {
     "name": "stdout",
     "output_type": "stream",
     "text": [
      "Le nombre est plus grand que 100\n",
      "J'ai fini\n"
     ]
    }
   ],
   "source": [
    "nombre = 1000\n",
    "if nombre > 100:\n",
    "    print(\"Le nombre est plus grand que 100\")\n",
    "else:\n",
    "    print(\"Le nombre n'est pas plus grand que 100.\")\n",
    "print(\"J'ai fini\")"
   ]
  },
  {
   "cell_type": "markdown",
   "metadata": {
    "deletable": true,
    "editable": true
   },
   "source": [
    "Schématiquement, le code précédent peut être représenté comme ceci:\n",
    "![](python-flowchart-conditional.png)"
   ]
  },
  {
   "cell_type": "markdown",
   "metadata": {
    "deletable": true,
    "editable": true
   },
   "source": [
    "Un énoncé conditionnel `if` n'oblige pas la définition d'un comportement si la condition est fausse ou `else`. Si on s'était intéressé à seulement afficher le premier message quand la variable est plus grande que 100, on aurait pu faire ceci:"
   ]
  },
  {
   "cell_type": "code",
   "execution_count": 5,
   "metadata": {
    "collapsed": false,
    "deletable": true,
    "editable": true
   },
   "outputs": [
    {
     "name": "stdout",
     "output_type": "stream",
     "text": [
      "J'ai fini\n"
     ]
    }
   ],
   "source": [
    "nombre = 37\n",
    "if nombre > 100:\n",
    "    print(\"Le nombre est plus grand que 100\")\n",
    "print(\"J'ai fini\")"
   ]
  },
  {
   "cell_type": "markdown",
   "metadata": {
    "deletable": true,
    "editable": true
   },
   "source": [
    "À l'inverse, on peut ajouter des conditions supplémentaires dans le cas où le premier énoncé était faux à l'aide de l'instruction `elif`. Par exemple, si on voulait énonncé quelque chose de différent dans le cas où la variable est nulle."
   ]
  },
  {
   "cell_type": "code",
   "execution_count": 9,
   "metadata": {
    "collapsed": false,
    "deletable": true,
    "editable": true
   },
   "outputs": [
    {
     "name": "stdout",
     "output_type": "stream",
     "text": [
      "Plus grand que 90\n",
      "J'ai fini\n"
     ]
    }
   ],
   "source": [
    "nombre = 95\n",
    "if nombre > 100:\n",
    "    print(\"Plus grand que 100\")\n",
    "elif nombre > 90:\n",
    "    print(\"Plus grand que 90\")\n",
    "elif nombre == 95:\n",
    "    print(\"Le nombre est égale à 95\")\n",
    "else:\n",
    "    print(\"Je suis tout mêlé.\")\n",
    "print(\"J'ai fini\")"
   ]
  },
  {
   "cell_type": "markdown",
   "metadata": {
    "deletable": true,
    "editable": true
   },
   "source": [
    "À l'intérieur d'un même énoncé conditionnel `if`, on peut combiner les conditions à tester à l'aides des instructions `and` et `or`."
   ]
  },
  {
   "cell_type": "code",
   "execution_count": 11,
   "metadata": {
    "collapsed": false,
    "deletable": true,
    "editable": true
   },
   "outputs": [
    {
     "name": "stdout",
     "output_type": "stream",
     "text": [
      "J'ai réussi\n"
     ]
    }
   ],
   "source": [
    "num1 = 60\n",
    "num2 = 100\n",
    "\n",
    "if num1 < 50 or num2 > 90:\n",
    "    print(\"J'ai réussi\")"
   ]
  },
  {
   "cell_type": "markdown",
   "metadata": {
    "deletable": true,
    "editable": true
   },
   "source": [
    "# Vérification sur nos données de patients\n",
    "\n",
    "Nous allons procéder à la vérification de certaines données concernant nos patients.\n",
    "\n",
    "Nous allons combiner ce que nous avons appris jusqu'à présent. On veut\n",
    "- importez numpy\n",
    "- chargez nos données dans une variable `data`;\n",
    "- Alertez lorsque le maximum d'inflammation du patient 1 est égale à 0 et le maximum d'inflammation du patient 21 est égale à 21;\n",
    "- Alertez lorque la somme des inflamations minimum pour l'ensemble des patients est de 0;\n",
    "- Affichez un message comme quoi tout va bien si aucune des conditions précédentes ne s'appliquent."
   ]
  },
  {
   "cell_type": "code",
   "execution_count": 15,
   "metadata": {
    "collapsed": true
   },
   "outputs": [],
   "source": [
    "import numpy"
   ]
  },
  {
   "cell_type": "code",
   "execution_count": 16,
   "metadata": {
    "collapsed": true
   },
   "outputs": [],
   "source": [
    "data = numpy.loadtxt(fname='inflammation-01.csv', delimiter=',')"
   ]
  },
  {
   "cell_type": "code",
   "execution_count": 23,
   "metadata": {
    "collapsed": false
   },
   "outputs": [
    {
     "name": "stdout",
     "output_type": "stream",
     "text": [
      "Tout va bien.\n"
     ]
    }
   ],
   "source": [
    "if numpy.max(data[0, :]) == 0 and numpy.max(data[20, :]) == 21:\n",
    "    print(\"ALERT!\")\n",
    "if numpy.sum(numpy.min(data, axis=0)) == 0:\n",
    "    print(\"ALERT 2!\")\n",
    "else:\n",
    "    print(\"Tout va bien.\")"
   ]
  },
  {
   "cell_type": "code",
   "execution_count": null,
   "metadata": {
    "collapsed": true
   },
   "outputs": [],
   "source": []
  }
 ],
 "metadata": {
  "kernelspec": {
   "display_name": "Python-Workshop",
   "language": "python",
   "name": "python-workshop"
  },
  "language_info": {
   "codemirror_mode": {
    "name": "ipython",
    "version": 3
   },
   "file_extension": ".py",
   "mimetype": "text/x-python",
   "name": "python",
   "nbconvert_exporter": "python",
   "pygments_lexer": "ipython3",
   "version": "3.5.0"
  }
 },
 "nbformat": 4,
 "nbformat_minor": 2
}
