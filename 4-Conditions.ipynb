{
 "cells": [
  {
   "cell_type": "markdown",
   "metadata": {},
   "source": [
    "# Faire des choix en fonction de conditions\n",
    "\n",
    "Nous allons maintenant voir comment adapter la logique de notre code en fonction de l'état de nos variables. La notion de condition en Python s'exprime à l'aide de l'instruction `if`.\n",
    "\n",
    "Essayons de faire afficher un message différent en fonction de la valeur qui se trouve dans une variable `nombre`."
   ]
  },
  {
   "cell_type": "code",
   "execution_count": null,
   "metadata": {},
   "outputs": [],
   "source": [
    "nombre = 37"
   ]
  },
  {
   "cell_type": "markdown",
   "metadata": {},
   "source": [
    "Schématiquement, le code précédent peut être représenté comme ceci:\n",
    "![](images/python-flowchart-conditional.png)"
   ]
  },
  {
   "cell_type": "markdown",
   "metadata": {},
   "source": [
    "Un énoncé conditionnel `if` n'oblige pas la définition d'un comportement si la condition est fausse ou `else`. Si on s'intéressait à afficher seulement un message quand la variable est plus grande que 100, on pourrait faire ceci:"
   ]
  },
  {
   "cell_type": "code",
   "execution_count": null,
   "metadata": {},
   "outputs": [],
   "source": []
  },
  {
   "cell_type": "markdown",
   "metadata": {},
   "source": [
    "À l'inverse, on peut ajouter des conditions supplémentaires lorsque l'énoncé précédent est faux à l'aide de l'instruction `elif`. Par exemple, si on voulait afficher un message lorsque la variable est nulle."
   ]
  },
  {
   "cell_type": "code",
   "execution_count": null,
   "metadata": {},
   "outputs": [],
   "source": []
  },
  {
   "cell_type": "markdown",
   "metadata": {},
   "source": [
    "À l'intérieur d'un même énoncé `if`, on peut combiner les conditions à tester à l'aide des instructions `and` et `or`.\n",
    "\n",
    "**On peut par exemple valider si `num1` est supérieur à 0 et `num2` est inférieur à 0.**"
   ]
  },
  {
   "cell_type": "code",
   "execution_count": null,
   "metadata": {},
   "outputs": [],
   "source": [
    "num1 = -37\n",
    "num2 = 100"
   ]
  },
  {
   "cell_type": "markdown",
   "metadata": {},
   "source": [
    "# Vérification sur nos données de patients\n",
    "\n",
    "Nous allons procéder à la vérification de certaines données concernant nos patients.\n",
    "\n",
    "Nous allons combiner ce que nous avons appris jusqu'à présent. On veut\n",
    "- importez numpy\n",
    "- chargez nos données dans une variable `data`;\n",
    "- Alertez lorsque le maximum d'inflammation du patient 1 est égale à 0 et le maximum d'inflammation du patient 21 est égale à 21;\n",
    "- Alertez lorque la somme des inflamations minimum pour l'ensemble des patients est de 0;\n",
    "- Affichez un message comme quoi tout va bien si aucune des conditions précédentes ne s'appliquent."
   ]
  },
  {
   "cell_type": "code",
   "execution_count": null,
   "metadata": {},
   "outputs": [],
   "source": []
  },
  {
   "cell_type": "markdown",
   "metadata": {},
   "source": [
    "## Exercices\n",
    "\n",
    "### 1. Suffisamment proches\n",
    "\n",
    "Écrivez un énoncé conditionnel qui affiche `True` lorsque la variable `a` correspond à 10% prêt à la variable `b`. Affichez la `False` si ce n'est pas le cas. \n",
    "\n",
    "Est-ce qu'on peut écrire un énoncé plus court?"
   ]
  },
  {
   "cell_type": "code",
   "execution_count": null,
   "metadata": {},
   "outputs": [],
   "source": []
  },
  {
   "cell_type": "markdown",
   "metadata": {},
   "source": [
    "### 2. Opérateurs en-place\n",
    "\n",
    "Python fournit des opérateurs \"en-place\" qui fonctionne comme suit:"
   ]
  },
  {
   "cell_type": "code",
   "execution_count": null,
   "metadata": {},
   "outputs": [],
   "source": [
    "x = 1\n",
    "x += 1 # ajoute un à x et réassigne le résultat à x\n",
    "x *= 3 # multiple x par 3\n",
    "print(x)"
   ]
  },
  {
   "cell_type": "markdown",
   "metadata": {},
   "source": [
    "Écrivez du code calculant les sommes des nombres positifs et négatifs dans des listes distinctes en utilisant les opérateurs en-place. \n",
    "\n",
    "Utilisez la liste suivante comme point de départ."
   ]
  },
  {
   "cell_type": "code",
   "execution_count": null,
   "metadata": {},
   "outputs": [],
   "source": [
    "nombres = [-5, 6, -1, -7, -9, 4, 3, 2, -8]"
   ]
  },
  {
   "cell_type": "code",
   "execution_count": null,
   "metadata": {},
   "outputs": [],
   "source": []
  }
 ],
 "metadata": {
  "kernelspec": {
   "display_name": "Python 3",
   "language": "python",
   "name": "python3"
  },
  "language_info": {
   "codemirror_mode": {
    "name": "ipython",
    "version": 3
   },
   "file_extension": ".py",
   "mimetype": "text/x-python",
   "name": "python",
   "nbconvert_exporter": "python",
   "pygments_lexer": "ipython3",
   "version": "3.6.1"
  }
 },
 "nbformat": 4,
 "nbformat_minor": 2
}
