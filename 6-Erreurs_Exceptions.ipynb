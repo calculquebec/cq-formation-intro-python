{
 "cells": [
  {
   "cell_type": "markdown",
   "metadata": {},
   "source": [
    "# Erreurs et exceptions\n",
    "\n",
    "Tous les programmeurs sans exception feront face à des erreurs de programmation et ce à tout moment de leur carrière. Ces erreurs peuvent parfois être très frustrantes et complexes à résoudre. Ceci dit, la compréhension des différents types d'erreurs pouvant survenir et à quel moment vous les rencontrerez peut être très utile. Une fois que vous comprenez pourquoi vous obtenez certains types d'erreurs, elles deviennent plus facile à résoudre.\n",
    "\n",
    "Les erreurs en Python ont une forme qui leur est propre, mieux connue sous le nom de traceback. Examinons-en une ensemble."
   ]
  },
  {
   "cell_type": "code",
   "execution_count": null,
   "metadata": {},
   "outputs": [],
   "source": [
    "def affiche_saveur():\n",
    "    saveurs = [\n",
    "        \"chocolat\",\n",
    "        \"fraise\",\n",
    "        \"vanille\"\n",
    "    ]\n",
    "    print(saveurs[3])"
   ]
  },
  {
   "cell_type": "code",
   "execution_count": null,
   "metadata": {},
   "outputs": [],
   "source": [
    "affiche_saveur()"
   ]
  },
  {
   "cell_type": "markdown",
   "metadata": {},
   "source": [
    "Ce traceback comporte 2 niveaux. Le nombre de niveaux peut être déterminé en comptant le nombre de flèches `---->`. Dans ce cas-çi,\n",
    "1. La première flèche pointe vers l'appel à la fonction `affiche_saveur`.\n",
    "2. La deuxième pointe vers la ligne 7 de la fonction `affiche_saveur`.\n",
    "\n",
    "Pouvez-vous expliquer ce qui s'est passé?"
   ]
  },
  {
   "cell_type": "markdown",
   "metadata": {},
   "source": [
    "## Erreurs de syntaxe\n",
    "\n",
    "Lorsque vous oubliez une parenthèse, une virgule, vous indentez incorrectement, etc. vous rencontrez une erreur de syntaxe ou `SyntaxError`. Ceci signifie que Python a été incapable d'interpréter votre programme tel qu'il est écrit.\n",
    "\n",
    "Considérons l'exemple suivant:"
   ]
  },
  {
   "cell_type": "code",
   "execution_count": null,
   "metadata": {},
   "outputs": [],
   "source": [
    "def ma_fonction()\n",
    "    msg = \"Bonjour le monde!\"\n",
    "    print(msg)\n",
    "      return msg"
   ]
  },
  {
   "cell_type": "markdown",
   "metadata": {},
   "source": [
    "Pouvez-vous identifier la première erreur ? Que se passe-t-il si on exécute cette cellule?"
   ]
  },
  {
   "cell_type": "markdown",
   "metadata": {},
   "source": [
    "## Erreurs de nommage\n",
    "\n",
    "Une autre erreur courante se produit lorsqu'on essaie d'utiliser une variable qui n'existe pas. Par exemple:"
   ]
  },
  {
   "cell_type": "code",
   "execution_count": null,
   "metadata": {},
   "outputs": [],
   "source": [
    "print(a)"
   ]
  },
  {
   "cell_type": "markdown",
   "metadata": {},
   "source": [
    "L'erreur peut aussi se produire lorsqu'on oublie d'utiliser les guillemets pour définir une chaîne de caractères."
   ]
  },
  {
   "cell_type": "code",
   "execution_count": null,
   "metadata": {},
   "outputs": [],
   "source": [
    "print(hello)"
   ]
  },
  {
   "cell_type": "markdown",
   "metadata": {},
   "source": [
    "L'erreur va aussi se produire lorsqu'on oublie de déclarer une variable avant d'en faire l'usage dans une boucle for par exemple."
   ]
  },
  {
   "cell_type": "code",
   "execution_count": null,
   "metadata": {},
   "outputs": [],
   "source": [
    "for number in range(10):\n",
    "    count = count + number\n",
    "print(\"Le décompte est \", count)"
   ]
  },
  {
   "cell_type": "markdown",
   "metadata": {},
   "source": [
    "L'erreur peut survenir suite à une erreur de typographie. Par exemple, Python est sensible à la casse, donc vous pourriez faire face à des problèmes de ce genre :"
   ]
  },
  {
   "cell_type": "code",
   "execution_count": null,
   "metadata": {},
   "outputs": [],
   "source": [
    "Count = 0\n",
    "for number in range(10):\n",
    "    count = count + number\n",
    "print(\"The count is:\", count)"
   ]
  },
  {
   "cell_type": "markdown",
   "metadata": {},
   "source": [
    "## Erreurs d'indexation\n",
    "\n",
    "Nous avons déjà vu ce type d'erreur précédemment durant l'atelier. Si vous tentez d'accéder à un item inexistant dans une liste ou dans une chaîne de caractères, vous obtiendrez cette erreur. "
   ]
  },
  {
   "cell_type": "code",
   "execution_count": null,
   "metadata": {},
   "outputs": [],
   "source": [
    "lettres = ['a', 'b', 'c']\n",
    "print(\"La première lettre est \", lettres[0])\n",
    "print(\"La deuxième lettre est \", lettres[1])\n",
    "print(\"La troisième lettre est \", lettres[2])\n",
    "print(\"La quatrième lesttre est \", lettres[3])"
   ]
  },
  {
   "cell_type": "markdown",
   "metadata": {},
   "source": [
    "Ici, Python nous indique qu'il y a une erreur de type `IndexError` dans notre code, signifiant que nous essayons d'accéder à un indice qui n'existe pas dans la liste."
   ]
  },
  {
   "cell_type": "markdown",
   "metadata": {},
   "source": [
    "## Erreurs de fichier\n",
    "\n",
    "Le dernier type d'erreur que nous allons couvrir aujourd'hui sont associées à la lecture et l'écriture de fichiers : `FileNotFoundError`. Si vous tentez de **lire** un fichier qui n'existe pas, vous obtiendrez une erreur `FileNotFoundError` à cet effet."
   ]
  },
  {
   "cell_type": "code",
   "execution_count": null,
   "metadata": {},
   "outputs": [],
   "source": [
    "import numpy\n",
    "numpy.loadtxt(fname='inflammation-01.csv', delimiter=',')"
   ]
  },
  {
   "cell_type": "markdown",
   "metadata": {},
   "source": [
    "**Dans quelles circonstances pourrait-on obtenir ce type d'erreur d'après vous ?**"
   ]
  },
  {
   "cell_type": "markdown",
   "metadata": {},
   "source": [
    "Un autre type d'erreur en lien avec la lecture et l'écriture dans des fichiers peut se produire. Il s'agit de l'erreur `UnsupportedOperation`."
   ]
  },
  {
   "cell_type": "code",
   "execution_count": null,
   "metadata": {},
   "outputs": [],
   "source": [
    "file = open('mon_tableau.npz', 'w')\n",
    "mon_tableau = file.readlines()"
   ]
  },
  {
   "cell_type": "markdown",
   "metadata": {},
   "source": [
    "**Pouvez-vous expliquer ce qui s'est produit ?**"
   ]
  },
  {
   "cell_type": "markdown",
   "metadata": {},
   "source": [
    "## Exercices"
   ]
  },
  {
   "cell_type": "markdown",
   "metadata": {},
   "source": [
    "### 1. Lecture des messages d'erreur\n",
    "\n",
    "Lisez le code Python suivante, exécutez le, puis répondez aux questions suivantes\n",
    "1. Combien de niveaux forment ce traceback ?\n",
    "2. Quelle est le nom de la fonction où l'erreur s'est produite ?\n",
    "3. Quel est le numéro de la ligne où s'est produite l'erreur ?\n",
    "4. Quel est le type d'erreur ?\n",
    "5. Quel est le message d'erreur ?"
   ]
  },
  {
   "cell_type": "code",
   "execution_count": null,
   "metadata": {},
   "outputs": [],
   "source": [
    "def affiche_message_du_jour(jour):\n",
    "    messages = {\n",
    "        \"lundi\": \"Bonjour le monde!\",\n",
    "        \"mardi\": \"Aujourd'hui, c'est mardi.\",\n",
    "        \"mercredi\": \"C'est le milieu de la semaine.\",\n",
    "        \"jeudi\": \"Aujourd'hui c'est Donnerstag en Allemagne!\",\n",
    "        \"vendredi\": \"Dernier jour de la semaine!\",\n",
    "        \"samedi\": \"Hoorah la fin de semaine!\",\n",
    "        \"dimanche\": \"Zut, la fin de semaine est finie.\"\n",
    "    }\n",
    "    print(messages[jour])\n",
    "\n",
    "def affiche_message_vendredi():\n",
    "    affiche_message_du_jour(\"Vendredi\")\n",
    "\n",
    "affiche_message_vendredi()"
   ]
  },
  {
   "cell_type": "markdown",
   "metadata": {},
   "source": [
    "### 2. Identifier les erreurs de syntaxe\n",
    "\n",
    "1. Lisez le code ci-dessous et essayez d'identifier les erreurs.\n",
    "2. Exécutez le code et lisez les messages d'erreur.\n",
    "3. Réparez les erreurs.\n",
    "4. Répétez les étapes 2 et 3 jusqu'à le code s'exécute sans erreur.\n",
    "5. Est-ce qu'il pourrait quand même survenir des erreurs?"
   ]
  },
  {
   "cell_type": "code",
   "execution_count": null,
   "metadata": {},
   "outputs": [],
   "source": [
    "def une_autre_fonction\n",
    "    print(\"Les erreurs de syntaxe, c'est déplaisant.\")\n",
    "     print(\"Mais au moins Python nous avertit.\")\n",
    "    print(\"Alors elles sont généralement facile à réparer.\")"
   ]
  },
  {
   "cell_type": "markdown",
   "metadata": {},
   "source": [
    "### 3. Identifier des erreurs de nom de variable\n",
    "\n",
    "1. Lisez le code ci-dessous et essayez d'identifier les erreurs.\n",
    "2. Exécutez le code et lisez les messages d'erreur.\n",
    "3. Réparez les erreurs.\n",
    "4. Répétez les étapes 2 et 3 jusqu'à le code s'exécute sans erreur."
   ]
  },
  {
   "cell_type": "code",
   "execution_count": null,
   "metadata": {},
   "outputs": [],
   "source": [
    "for nombre in range(10):\n",
    "    # utilise a si le nombre est un multiple de 3, sinon utilise b.\n",
    "    if (Nombre % 3) == 0:\n",
    "        message = message + a\n",
    "    else:\n",
    "        message = message + b\n",
    "print(message)"
   ]
  },
  {
   "cell_type": "markdown",
   "metadata": {},
   "source": [
    "### 4. Identifier des erreurs d'indexation\n",
    "1. Lisez le code ci-dessous et essayez d'identifier les erreurs.\n",
    "2. Exécutez le code et lisez les messages d'erreur.\n",
    "3. Réparez les erreurs."
   ]
  },
  {
   "cell_type": "code",
   "execution_count": null,
   "metadata": {},
   "outputs": [],
   "source": [
    "saisons = ['Printemps', 'Été', 'Automne', 'Hiver']\n",
    "print('Ma saison préférée est ', saisons[4])"
   ]
  },
  {
   "cell_type": "code",
   "execution_count": null,
   "metadata": {},
   "outputs": [],
   "source": []
  }
 ],
 "metadata": {
  "kernelspec": {
   "display_name": "Python 3",
   "language": "python",
   "name": "python3"
  },
  "language_info": {
   "codemirror_mode": {
    "name": "ipython",
    "version": 3
   },
   "file_extension": ".py",
   "mimetype": "text/x-python",
   "name": "python",
   "nbconvert_exporter": "python",
   "pygments_lexer": "ipython3",
   "version": "3.6.1"
  }
 },
 "nbformat": 4,
 "nbformat_minor": 2
}
