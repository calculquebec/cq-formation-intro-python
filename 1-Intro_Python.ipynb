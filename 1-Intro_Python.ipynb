{
 "cells": [
  {
   "cell_type": "markdown",
   "metadata": {},
   "source": [
    "# Introduction\n",
    "\n",
    "Nos données d'aujourd'hui sont un fichier _comma-separated values_ (CSV) sur l'inflammation de patients :\n",
    "```\n",
    "0,0,1,3,1,2,4,7,8,3,3,3,10,5,7,4,7,7,12,18,6,13,11,11,7,7,4,6,8,8,4,4,5,7,3,4,2,3,0,0\n",
    "0,1,2,1,2,1,3,2,2,6,10,11,5,9,4,4,7,16,8,6,18,4,12,5,12,7,11,5,11,3,3,5,4,4,5,5,1,1,0,1\n",
    "0,1,1,3,3,2,6,2,5,9,5,7,4,5,4,15,5,11,9,10,19,14,12,17,7,12,11,7,4,2,10,5,4,2,2,3,2,2,1,1\n",
    "0,0,2,0,4,2,2,1,6,7,10,7,9,13,8,8,15,10,10,7,17,4,4,7,6,15,6,4,9,11,3,5,6,3,3,4,2,3,2,1\n",
    "0,1,1,3,3,1,3,5,2,4,4,7,6,5,3,10,8,10,6,17,9,14,9,7,13,9,12,6,7,7,9,6,3,2,2,4,2,0,1,1\n",
    "```\n",
    "* où chaque lignes représente un patient;\n",
    "* chaque colonnes représente une journée consécutive.\n",
    "\n",
    "On veut pouvoir:\n",
    "- charger des données en mémoire;\n",
    "- calculer des statistiques sur ces données\n",
    "- créer des graphiques des résultats.\n",
    "\n",
    "Pour cet atelier nous utiliserons [Python 3](https://docs.python.org/3/). Vous pouvez à tout moment vous référer au matériel d'origine de [Software Carpentry](http://swcarpentry.github.io/python-novice-inflammation/)."
   ]
  },
  {
   "cell_type": "markdown",
   "metadata": {},
   "source": [
    "***"
   ]
  },
  {
   "cell_type": "markdown",
   "metadata": {},
   "source": [
    "# Variables\n",
    "### Objectifs\n",
    "* Assigner des valeurs aux variables."
   ]
  },
  {
   "cell_type": "markdown",
   "metadata": {},
   "source": [
    "Nous pouvons utiliser Python comme une calculatrice :"
   ]
  },
  {
   "cell_type": "code",
   "execution_count": null,
   "metadata": {},
   "outputs": [],
   "source": [
    "3 + 5 * 4"
   ]
  },
  {
   "cell_type": "markdown",
   "metadata": {},
   "source": [
    "C'est bien mais nous ne pouvons réutiliser ce résultat. Pour ce faire, nous devons utiliser une _variable_.\n",
    "Par exemple, créons une variable `poids_kg` contenant un poid en kilogramme."
   ]
  },
  {
   "cell_type": "code",
   "execution_count": null,
   "metadata": {},
   "outputs": [],
   "source": [
    " "
   ]
  },
  {
   "cell_type": "markdown",
   "metadata": {},
   "source": [
    "Maintenant, lorsque nous utiliserons `poids_kg`, Python nous retournera la valeur qui lui est associée.\n",
    "\n",
    "En Python, les noms de variables doivent respecter les règles suivantes :\n",
    "- peuvent inclure des lettres, nombres et barre de soulignement;\n",
    "- ne peuvent débuter par un nombre;\n",
    "- sont sensible à la casse.\n",
    "\n",
    "Par exemple :\n",
    "- `poids0` est un nom de variable accepté alors que `0poids` ne l'est pas.\n",
    "- `poids` et `Poids` sont deux variables différentes."
   ]
  },
  {
   "cell_type": "code",
   "execution_count": null,
   "metadata": {},
   "outputs": [],
   "source": []
  },
  {
   "cell_type": "markdown",
   "metadata": {},
   "source": [
    "## Types\n",
    "\n",
    "Il existes plusieurs types de données, en voici trois très communs :\n",
    "- nombres entier;\n",
    "- nombres décimaux;\n",
    "- chaînes de caractères.\n",
    "\n",
    "Dans l'exemple précédent, nous avons assigné la valeur entière `60` à la variable `poids_kg`.\n",
    "Afin de créer une valeur décimale, nous pouvons :"
   ]
  },
  {
   "cell_type": "code",
   "execution_count": null,
   "metadata": {},
   "outputs": [],
   "source": [
    "poids_kg = 60.0"
   ]
  },
  {
   "cell_type": "markdown",
   "metadata": {},
   "source": [
    "Et afin de créer une chaîne de caractères, nous utiliser entourer du texte de guillemets simple ou doubles, par exemple :"
   ]
  },
  {
   "cell_type": "code",
   "execution_count": null,
   "metadata": {},
   "outputs": [],
   "source": [
    "poids_kg_texte = 'poids en kilo :'"
   ]
  },
  {
   "cell_type": "markdown",
   "metadata": {},
   "source": [
    "## Utilisation de variables\n",
    "\n",
    "Afin d'afficher la valeur d'une variable à l'écran, nous pouvons utiliser la fonction `print` :"
   ]
  },
  {
   "cell_type": "code",
   "execution_count": null,
   "metadata": {},
   "outputs": [],
   "source": []
  },
  {
   "cell_type": "markdown",
   "metadata": {},
   "source": [
    "Il est aussi possible d'afficher plusieurs variables :"
   ]
  },
  {
   "cell_type": "code",
   "execution_count": null,
   "metadata": {},
   "outputs": [],
   "source": []
  },
  {
   "cell_type": "markdown",
   "metadata": {},
   "source": [
    "On peut même effectuer des opérations arithmétiques, par exemple convertir en livre."
   ]
  },
  {
   "cell_type": "code",
   "execution_count": null,
   "metadata": {},
   "outputs": [],
   "source": [
    "print(\"Le poids en livres est: \", poids_kg * 2.2)"
   ]
  },
  {
   "cell_type": "markdown",
   "metadata": {},
   "source": [
    "La variable `poids_kg` n'a pas été modifié."
   ]
  },
  {
   "cell_type": "code",
   "execution_count": null,
   "metadata": {},
   "outputs": [],
   "source": [
    "print(poids_kg)"
   ]
  },
  {
   "cell_type": "markdown",
   "metadata": {},
   "source": [
    "On peut assigner une nouvelle valeur à la variable"
   ]
  },
  {
   "cell_type": "code",
   "execution_count": null,
   "metadata": {},
   "outputs": [],
   "source": [
    "# poids_kg = \n",
    "print('Le poids en kilogrammes est maintenant:', poids_kg)"
   ]
  },
  {
   "cell_type": "markdown",
   "metadata": {},
   "source": [
    "# Charger des données\n",
    "### Objectifs\n",
    "* Comprendre ce qu'est une librairie et leur utilité;\n",
    "* Importer une librairie et pouvoir utiliser ses fonctions;\n",
    "* Charger des données tabulaires depuis un fichier;\n",
    "* Sélection de valeurs individuelles et sous-sections des données;\n",
    "* Effectuer des opérations sur les données.\n",
    "\n",
    "Pour débuter, nous avons besoin de charger un module nommé [NumPy](https://docs.scipy.org/doc/)."
   ]
  },
  {
   "cell_type": "code",
   "execution_count": null,
   "metadata": {},
   "outputs": [],
   "source": []
  },
  {
   "cell_type": "markdown",
   "metadata": {},
   "source": [
    "On peut maintenant utiliser numpy pour charger notre fichier csv."
   ]
  },
  {
   "cell_type": "code",
   "execution_count": null,
   "metadata": {},
   "outputs": [],
   "source": [
    "numpy.loadtxt(fname='data/inflammation-01.csv', delimiter=',')"
   ]
  },
  {
   "cell_type": "markdown",
   "metadata": {},
   "source": [
    "Le fichier chargé en mémoire est affiché à l'écran, mais on ne peut pas le manipuler directement. Pour ce faire, il faut créer une variable. Tout comme on assigne une valeur à une variable, on peut assigner à une variable le résultat d'un appel de fonction."
   ]
  },
  {
   "cell_type": "code",
   "execution_count": null,
   "metadata": {},
   "outputs": [],
   "source": [
    "data = numpy.loadtxt(fname='data/inflammation-01.csv', delimiter=',')"
   ]
  },
  {
   "cell_type": "markdown",
   "metadata": {},
   "source": [
    "Puis affichez le résultat de cette assignation à l'aide de la fonction `print` "
   ]
  },
  {
   "cell_type": "code",
   "execution_count": null,
   "metadata": {},
   "outputs": [],
   "source": []
  },
  {
   "cell_type": "markdown",
   "metadata": {},
   "source": [
    "À tout moment, on peut connaître le type d'une variable en utilisant la fonction `type`."
   ]
  },
  {
   "cell_type": "code",
   "execution_count": null,
   "metadata": {},
   "outputs": [],
   "source": []
  },
  {
   "cell_type": "markdown",
   "metadata": {},
   "source": [
    "Notre structure de données représentée par la variable `data` a aussi des propriétés, par exemple `dtype`."
   ]
  },
  {
   "cell_type": "code",
   "execution_count": null,
   "metadata": {},
   "outputs": [],
   "source": [
    "print(data.dtype)"
   ]
  },
  {
   "cell_type": "markdown",
   "metadata": {},
   "source": [
    "On peut aussi afficher les dimensions de notre tableau en accédant à la propriété `shape`."
   ]
  },
  {
   "cell_type": "code",
   "execution_count": null,
   "metadata": {},
   "outputs": [],
   "source": []
  },
  {
   "cell_type": "markdown",
   "metadata": {},
   "source": [
    "Pour accéder à un élément de notre tableau, nous utilisons les crochets ou \"brackets\" (`[]`). Par exemple, essayons d'accéder à l'élément de la ligne 30 et de la colonne 20."
   ]
  },
  {
   "cell_type": "code",
   "execution_count": null,
   "metadata": {},
   "outputs": [],
   "source": []
  },
  {
   "cell_type": "markdown",
   "metadata": {},
   "source": [
    "À votre avis, quels sont les indices correspondant à l'élément situé à sur la première ligne et la première colonne?"
   ]
  },
  {
   "cell_type": "code",
   "execution_count": null,
   "metadata": {},
   "outputs": [],
   "source": []
  },
  {
   "cell_type": "markdown",
   "metadata": {},
   "source": [
    "![Python Zero Index](images/python-zero-index.png)"
   ]
  },
  {
   "cell_type": "markdown",
   "metadata": {},
   "source": [
    "On peut non seulement extraire des éléments, mais aussi des sous-ensembles de notre tableau en utilisant le concept de tranche représenté par l'opérateur `:`."
   ]
  },
  {
   "cell_type": "code",
   "execution_count": null,
   "metadata": {},
   "outputs": [],
   "source": []
  },
  {
   "cell_type": "markdown",
   "metadata": {},
   "source": [
    "Les indices des tranches ne doivent pas obligatoirement commencer à 0."
   ]
  },
  {
   "cell_type": "code",
   "execution_count": null,
   "metadata": {},
   "outputs": [],
   "source": []
  },
  {
   "cell_type": "markdown",
   "metadata": {},
   "source": [
    "Il n'y a pas non plus d'obligation de définir la borne inférieure et supérieure des tranches. Ainsi, on peut appeler directement:"
   ]
  },
  {
   "cell_type": "code",
   "execution_count": null,
   "metadata": {},
   "outputs": [],
   "source": [
    "small_table = data[:5, 30:]\n",
    "print(\"Notre petite table:\")\n",
    "print(small_table)"
   ]
  },
  {
   "cell_type": "markdown",
   "metadata": {},
   "source": [
    "On peut appliquer des opérations avec des scalaires directement sur notre tableau. Par exemple, si on voulait multiplier chacune des valeurs du tableau précédent, on ferait ceci:"
   ]
  },
  {
   "cell_type": "code",
   "execution_count": null,
   "metadata": {},
   "outputs": [],
   "source": [
    "# doubletbl = "
   ]
  },
  {
   "cell_type": "markdown",
   "metadata": {},
   "source": [
    "On peut aussi effectuer des opérations entre des tableaux. On peut par exemple additioner le premier et le second tableau que nous avons créés."
   ]
  },
  {
   "cell_type": "code",
   "execution_count": null,
   "metadata": {},
   "outputs": [],
   "source": [
    "# ... = ... + ..."
   ]
  },
  {
   "cell_type": "markdown",
   "metadata": {},
   "source": [
    "Souvent, nous sommes intéréssés à réaliser des opérations plus complexes qu'additionner, multiplier ou soustraire. Numpy fournit des fonctions pour réaliser ces opérations plus complexes. Par exemple, si on veut déterminer la moyenne pour l'ensemble des données de notre tableau `data` : "
   ]
  },
  {
   "cell_type": "code",
   "execution_count": null,
   "metadata": {},
   "outputs": [],
   "source": [
    "numpy.mean(data)"
   ]
  },
  {
   "cell_type": "markdown",
   "metadata": {},
   "source": [
    "Cette valeur représente l'inflammation moyenne pour tous les patients durant toute la période de leur séjour. On pourrait aussi vouloir calculer la valeur maximale, minimale et l'écart-type."
   ]
  },
  {
   "cell_type": "code",
   "execution_count": null,
   "metadata": {},
   "outputs": [],
   "source": []
  },
  {
   "cell_type": "markdown",
   "metadata": {},
   "source": [
    "Pour en apprendre davantage sur une fonction, vous pouvez à tout moment appeler la fonction `help()` et fournir en argument le nom de la fonction d'intérêt."
   ]
  },
  {
   "cell_type": "code",
   "execution_count": null,
   "metadata": {},
   "outputs": [],
   "source": [
    "help(numpy.std)"
   ]
  },
  {
   "cell_type": "markdown",
   "metadata": {},
   "source": [
    "Sachant que dans notre tableau, chaque ligne représente un patient. Comment pensez-vous qu'il serait possible de récupérer les données de séjour du premier patient?"
   ]
  },
  {
   "cell_type": "code",
   "execution_count": null,
   "metadata": {},
   "outputs": [],
   "source": []
  },
  {
   "cell_type": "markdown",
   "metadata": {},
   "source": [
    "Calculez la valeur d'inflammation maximum pour ce patient:"
   ]
  },
  {
   "cell_type": "code",
   "execution_count": null,
   "metadata": {},
   "outputs": [],
   "source": []
  },
  {
   "cell_type": "markdown",
   "metadata": {},
   "source": [
    "Le tableau n'a pas seulement des propriétés tel que `shape`, il dispose aussi des fonctions qui lui sont propres, ou de méthodes. Pour appeler ces méthodes, on utilise l'opérateur `.`."
   ]
  },
  {
   "cell_type": "code",
   "execution_count": null,
   "metadata": {},
   "outputs": [],
   "source": [
    "data[2, :].max()"
   ]
  },
  {
   "cell_type": "markdown",
   "metadata": {},
   "source": [
    "Les opérations sur un tableau peuvent s'effectuer en fonction des lignes, des colonnes ou de l'ensemble du tableau. Les lignes et les colonnes sont ce qu'on appelle les axes du tableau.\n",
    "\n",
    "![alt text](images/python-operations-across-axes.png)"
   ]
  },
  {
   "cell_type": "markdown",
   "metadata": {},
   "source": [
    "Par exemple, calculons l'inflammation moyenne par jour pour l'ensemble des patients. À quel graphique cela correspond-il?"
   ]
  },
  {
   "cell_type": "code",
   "execution_count": null,
   "metadata": {},
   "outputs": [],
   "source": []
  },
  {
   "cell_type": "markdown",
   "metadata": {},
   "source": [
    "Si on voulait plutôt calculer l'inflammation moyenne par patient, qu'est-ce qu'il faudrait changer?"
   ]
  },
  {
   "cell_type": "code",
   "execution_count": null,
   "metadata": {},
   "outputs": [],
   "source": []
  },
  {
   "cell_type": "markdown",
   "metadata": {},
   "source": [
    "Les résultats de ces appels de fonctions sont toujours des tableaux numpy. Comment faire pour s'en convaincre?"
   ]
  },
  {
   "cell_type": "code",
   "execution_count": null,
   "metadata": {},
   "outputs": [],
   "source": []
  },
  {
   "cell_type": "markdown",
   "metadata": {},
   "source": [
    "***\n",
    "# Visualiser des données\n",
    "### Objectifs\n",
    "* Créer de simples graphiques rapidement à partir des données;\n",
    "* Grouper des graphiques dans une seule figure."
   ]
  },
  {
   "cell_type": "markdown",
   "metadata": {},
   "source": [
    "La présentation de chiffres offre peu d'intuition pour comprendre ce qui passe véritablement avec nos données. Conjointement avec numpy, nous pouvons utiliser le module `matplotlib` pour produire une représentation graphique de nos données.\n",
    "\n",
    "Importez matplotlib."
   ]
  },
  {
   "cell_type": "code",
   "execution_count": null,
   "metadata": {},
   "outputs": [],
   "source": []
  },
  {
   "cell_type": "markdown",
   "metadata": {},
   "source": [
    "Pour garantir l'affichage à l'intérieur de notre notebook. Il faut appelez une commande magique qui est propre à l'environnement actuel"
   ]
  },
  {
   "cell_type": "code",
   "execution_count": null,
   "metadata": {},
   "outputs": [],
   "source": [
    "%matplotlib inline"
   ]
  },
  {
   "cell_type": "markdown",
   "metadata": {},
   "source": [
    "On peut maintenant afficher nos données dans un premier temps comme un heatmap:"
   ]
  },
  {
   "cell_type": "code",
   "execution_count": null,
   "metadata": {},
   "outputs": [],
   "source": [
    "matplotlib.pyplot.imshow(data)\n",
    "matplotlib.pyplot.show()"
   ]
  },
  {
   "cell_type": "markdown",
   "metadata": {},
   "source": [
    "On peut aussi afficher des courbes, par exemple la courbe de l'inflammation moyenne par jour pour l'ensemble des patients."
   ]
  },
  {
   "cell_type": "code",
   "execution_count": null,
   "metadata": {},
   "outputs": [],
   "source": [
    "inflam_mean = numpy.mean(data, axis=0)\n",
    "matplotlib.pyplot.plot(inflam_mean)\n",
    "matplotlib.pyplot.show()"
   ]
  },
  {
   "cell_type": "markdown",
   "metadata": {},
   "source": [
    "À partir de l'exemple précédent, produisez un graphique pour l'inflammation maximum ainsi qu'un graphique pour l'inflammation minimum."
   ]
  },
  {
   "cell_type": "code",
   "execution_count": null,
   "metadata": {},
   "outputs": [],
   "source": []
  },
  {
   "cell_type": "markdown",
   "metadata": {},
   "source": [
    "Peut-on les superposer?"
   ]
  },
  {
   "cell_type": "code",
   "execution_count": null,
   "metadata": {},
   "outputs": [],
   "source": []
  },
  {
   "cell_type": "markdown",
   "metadata": {},
   "source": [
    "Tout peut être modifié sur un graphique, du nom des axes au titre, en passant par la légende et le format du trait de la courbe. La seule limite est votre imagination et votre patience.\n",
    "\n",
    "Jetez un oeil à la gallerie d'exemples de [matplotlib](http://matplotlib.org/gallery.html)."
   ]
  },
  {
   "cell_type": "markdown",
   "metadata": {},
   "source": [
    "## Exercices\n",
    "\n",
    "### 1. Créer votre propre graphique\n",
    "\n",
    "Créez un graphique affichant l'écart-type (`numpy.std`) de l'inflammation pour chaque jour pour tous les patients. "
   ]
  },
  {
   "cell_type": "code",
   "execution_count": null,
   "metadata": {},
   "outputs": [],
   "source": []
  },
  {
   "cell_type": "markdown",
   "metadata": {},
   "source": [
    "### 2. Organiser ses graphiques\n",
    "\n",
    "Modifiez le programme d'affichage des graphiques de manière à afficher chaque courbe dans un plan cartésien distinct.\n",
    "\n",
    "Pouvez-vous refaire le graphique, mais cette fois en orientant les graphiques verticalement?"
   ]
  },
  {
   "cell_type": "code",
   "execution_count": null,
   "metadata": {},
   "outputs": [],
   "source": []
  }
 ],
 "metadata": {
  "kernelspec": {
   "display_name": "Python 3",
   "language": "python",
   "name": "python3"
  },
  "language_info": {
   "codemirror_mode": {
    "name": "ipython",
    "version": 3
   },
   "file_extension": ".py",
   "mimetype": "text/x-python",
   "name": "python",
   "nbconvert_exporter": "python",
   "pygments_lexer": "ipython3",
   "version": "3.6.8"
  }
 },
 "nbformat": 4,
 "nbformat_minor": 2
}
